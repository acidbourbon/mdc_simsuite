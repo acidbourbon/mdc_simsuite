{
 "cells": [
  {
   "cell_type": "code",
   "execution_count": 1,
   "metadata": {},
   "outputs": [
    {
     "name": "stdout",
     "output_type": "stream",
     "text": [
      "LECROY,WR620ZI,LCRY2805N57162,8.5.1\n",
      "Rigol Technologies,DG4202,DG4E212801262,00.01.14\n"
     ]
    }
   ],
   "source": [
    "import lecroy\n",
    "import rigol\n",
    "import numpy as np\n",
    "from matplotlib import pyplot as plt\n",
    "from sigproc_kit import *"
   ]
  },
  {
   "cell_type": "code",
   "execution_count": 2,
   "metadata": {},
   "outputs": [],
   "source": [
    "##################################################\n",
    "##              program RIGOL AWG               ##\n",
    "##################################################\n",
    "\n",
    "\n",
    "awg_samples = 2**12\n",
    "\n",
    "awg_period = 250e-9\n",
    "\n",
    "awg_time = np.linspace(0,awg_period,awg_samples)\n",
    "\n",
    "test_amp = -500e-3\n",
    "\n",
    "\n",
    "y2 = 0 + test_amp*(awg_time>100e-9)*(awg_time<150e-9)\n",
    "\n",
    "rigol.set_waveform(2,awg_time,y2)"
   ]
  },
  {
   "cell_type": "code",
   "execution_count": 3,
   "metadata": {},
   "outputs": [],
   "source": [
    "##################################################\n",
    "##             program LeCroy Scope             ##\n",
    "##################################################\n",
    "\n",
    "\n",
    "lecroy.clear_all()\n",
    "lecroy.set_tdiv(100e-9)\n",
    "\n",
    "# access scope sources by labels\n",
    "s = {\n",
    "    \"RIGOL_AWG_CH2\"    :\"C1\", # set to 50R DC\n",
    "    \"PASTTREC_LVDS\"    :\"C4\", # use LeCroy ZD1500 differential probe\n",
    "    \"PASTTREC_analog\"  :\"C3\"  # set to 50R DC\n",
    "}\n",
    "\n",
    "# set vertical amplifications and offsets\n",
    "lecroy.set_vdiv(              s[\"PASTTREC_LVDS\"],200e-3)\n",
    "\n",
    "lecroy.set_vdiv(              s[\"RIGOL_AWG_CH2\"],200e-3)\n",
    "\n",
    "lecroy.set_vdiv(              s[\"PASTTREC_analog\"],100e-3 )\n",
    "lecroy.set_voffset(           s[\"PASTTREC_analog\"],-1000e-3 )\n",
    "\n",
    "\n",
    "# access scope measurements by labels\n",
    "m = {\n",
    "    \"PASTTREC_t1\"  : \"p3\",\n",
    "    \"PASTTREC_tot\" : \"p4\"\n",
    "}\n",
    "\n",
    "# TDC measurements for differential probe at 100R terminated PASTTREC LVDS output\n",
    "lecroy.setup_measurement(m[\"PASTTREC_t1\"] ,s[\"PASTTREC_LVDS\"],\"delay\")\n",
    "lecroy.setup_measurement(m[\"PASTTREC_tot\"],s[\"PASTTREC_LVDS\"],\"widthn\")\n",
    "\n",
    "\n",
    "# access scope trigger channels by labels\n",
    "\n",
    "t = {\n",
    "    \"RIGOL_AWG_SYNC1\" : \"D9\",\n",
    "    \"RIGOL_AWG_SYNC2\" : \"D10\"\n",
    "}\n",
    "\n",
    "\n",
    "\n",
    "\n",
    "\n"
   ]
  },
  {
   "cell_type": "code",
   "execution_count": 6,
   "metadata": {},
   "outputs": [
    {
     "data": {
      "image/png": "[encoded data removed]",
      "text/plain": [
       "<matplotlib.figure.Figure at 0x7f33c25ddb70>"
      ]
     },
     "metadata": {
      "needs_background": "light"
     },
     "output_type": "display_data"
    }
   ],
   "source": [
    "##################################################\n",
    "##             measure AWG Waveform             ##\n",
    "##################################################\n",
    "\n",
    "lecroy.set_trig_source(t[\"RIGOL_AWG_SYNC2\"])\n",
    "\n",
    "time, wfm = lecroy.capture_waveforms([\n",
    "    s[\"RIGOL_AWG_CH2\"]\n",
    "])\n",
    "\n",
    "time_ns = time*1e9\n",
    "\n",
    "\n",
    "plt.plot(time_ns,wfm[s[\"RIGOL_AWG_CH2\"]] ,\"g\" ,label=\"RIGOL_AWG_CH2\")\n",
    "plt.plot(1e9*awg_time, y2 ,\"r\" ,label=\"test data\")\n",
    "\n",
    "plt.legend()\n",
    "plt.xlabel(\"time (ns)\")\n",
    "plt.ylabel(\"voltage (V)\")\n",
    "plt.show()"
   ]
  }
 ],
 "metadata": {
  "kernelspec": {
   "display_name": "Python 3",
   "language": "python",
   "name": "python3"
  },
  "language_info": {
   "codemirror_mode": {
    "name": "ipython",
    "version": 3
   },
   "file_extension": ".py",
   "mimetype": "text/x-python",
   "name": "python",
   "nbconvert_exporter": "python",
   "pygments_lexer": "ipython3",
   "version": "3.6.8"
  }
 },
 "nbformat": 4,
 "nbformat_minor": 2
}
